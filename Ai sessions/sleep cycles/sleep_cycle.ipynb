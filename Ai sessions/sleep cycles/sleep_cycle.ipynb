{
 "cells": [
  {
   "cell_type": "code",
   "execution_count": null,
   "id": "b625a974",
   "metadata": {},
   "outputs": [],
   "source": [
    "\n",
    "import pandas as pd\n",
    "import matplotlib.pyplot as plt"
   ]
  },
  {
   "cell_type": "code",
   "execution_count": null,
   "id": "c9c785ea",
   "metadata": {},
   "outputs": [],
   "source": [
    "# Load the dataset (make sure the CSV file is in the same folder)\n",
    "df = pd.read_csv(\"sleep_health.csv\")\n",
    "\n",
    "# Display first few rows\n",
    "df.head()\n"
   ]
  },
  {
   "cell_type": "code",
   "execution_count": null,
   "id": "bdf27994",
   "metadata": {},
   "outputs": [],
   "source": [
    "# Basic dataset info\n",
    "print(\"--- Basic Information ---\")\n",
    "print(df.info())\n",
    "\n",
    "# Basic statistics\n",
    "print(\"\\n--- Summary Statistics ---\")\n",
    "print(df.describe())\n",
    "\n",
    "# Check missing values\n",
    "print(\"\\n--- Missing Values ---\")\n",
    "print(df.isnull().sum())\n"
   ]
  },
  {
   "cell_type": "code",
   "execution_count": null,
   "id": "97270cde",
   "metadata": {},
   "outputs": [],
   "source": [
    "# Count of each sleep disorder type\n",
    "sleep_disorder_counts = df['Sleep Disorder'].value_counts()\n",
    "\n",
    "# Plot bar chart\n",
    "plt.figure(figsize=(6,4))\n",
    "plt.bar(sleep_disorder_counts.index, sleep_disorder_counts.values, color=['lightblue', 'orange', 'lightgreen'])\n",
    "plt.title(\"Sleep Disorder Distribution\")\n",
    "plt.xlabel(\"Sleep Disorder Type\")\n",
    "plt.ylabel(\"Count\")\n",
    "plt.show()\n"
   ]
  },
  {
   "cell_type": "code",
   "execution_count": null,
   "id": "2d42203c",
   "metadata": {},
   "outputs": [],
   "source": [
    "# Scatter plot: Sleep Duration vs Quality of Sleep\n",
    "plt.figure(figsize=(7,5))\n",
    "plt.scatter(df['Sleep Duration'], df['Quality of Sleep'], c='purple')\n",
    "plt.title(\"Sleep Duration vs Quality of Sleep\")\n",
    "plt.xlabel(\"Sleep Duration (hours)\")\n",
    "plt.ylabel(\"Quality of Sleep (rating)\")\n",
    "plt.grid(True)\n",
    "plt.show()\n"
   ]
  },
  {
   "cell_type": "code",
   "execution_count": null,
   "id": "9a0c8888",
   "metadata": {},
   "outputs": [],
   "source": [
    "plt.figure(figsize=(7,5))\n",
    "plt.scatter(df['Physical Activity Level'], df['Quality of Sleep'], c='green')\n",
    "plt.title(\"Physical Activity Level vs Quality of Sleep\")\n",
    "plt.xlabel(\"Physical Activity Level\")\n",
    "plt.ylabel(\"Quality of Sleep\")\n",
    "plt.grid(True)\n",
    "plt.show()\n"
   ]
  },
  {
   "cell_type": "code",
   "execution_count": null,
   "id": "8a348020",
   "metadata": {},
   "outputs": [],
   "source": [
    "# Group by occupation and gender\n",
    "avg_sleep = df.groupby(['Occupation', 'Gender'])['Sleep Duration'].mean().unstack()\n",
    "\n",
    "# Bar chart\n",
    "avg_sleep.plot(kind='bar', figsize=(10,5))\n",
    "plt.title(\"Average Sleep Duration by Occupation and Gender\")\n",
    "plt.ylabel(\"Average Sleep Duration (hours)\")\n",
    "plt.xticks(rotation=45)\n",
    "plt.show()\n"
   ]
  },
  {
   "cell_type": "code",
   "execution_count": null,
   "id": "a629cf76",
   "metadata": {},
   "outputs": [],
   "source": [
    "# Correlation between numeric columns\n",
    "corr = df.select_dtypes(include='number').corr()\n",
    "\n",
    "# Display correlation matrix\n",
    "print(\"--- Correlation Matrix ---\")\n",
    "print(corr)\n",
    "\n",
    "# Simple heatmap using matplotlib\n",
    "plt.figure(figsize=(8,6))\n",
    "plt.imshow(corr, cmap='coolwarm', interpolation='none')\n",
    "plt.colorbar(label='Correlation')\n",
    "plt.xticks(range(len(corr.columns)), corr.columns, rotation=45)\n",
    "plt.yticks(range(len(corr.columns)), corr.columns)\n",
    "plt.title(\"Correlation Heatmap\")\n",
    "plt.show()\n"
   ]
  }
 ],
 "metadata": {
  "kernelspec": {
   "display_name": "Python 3",
   "language": "python",
   "name": "python3"
  },
  "language_info": {
   "name": "python",
   "version": "3.13.1"
  }
 },
 "nbformat": 4,
 "nbformat_minor": 5
}
